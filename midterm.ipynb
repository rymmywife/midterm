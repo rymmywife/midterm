def k(i,j,m,base0=True):
    '''Convert (i,j) indexes in a two-dimensional array
    with m rows into a single index computed column-wise
    '''
    if base0:
        return j*m + i
    else:
        return (j-1)*m + i

def ik(k,m,base0=True):
    '''Convert k index in a two-dimensional array
    with m rows into a pair of (i,j) indexes
    '''
    if base0:
        j = k//m
        i = k%m
    else:
        j = k//m + 1
        i = k%m
    return i,j

m=5
for i in range(5):
    for j in range(10):
        k0 = k(i,j,m)
        i1,j1 = ik(k0,m)
        print('(%d,%d) --> %d --> (%d,%d)'%(i,j,k0,i1,j1))