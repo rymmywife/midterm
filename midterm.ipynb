a=65+78*2
print(a)